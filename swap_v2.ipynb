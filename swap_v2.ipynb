{
  "nbformat": 4,
  "nbformat_minor": 0,
  "metadata": {
    "colab": {
      "provenance": [],
      "collapsed_sections": [
        "iQUnPPF49CR6",
        "YqU9tEw19Ibt",
        "-A0LB5r29M2N",
        "fdU_zJRs9-uT",
        "bo7O-Vvm-HuZ",
        "oN5I7A99-Mkf",
        "mLx-AEmB-PIu",
        "5mdQ8UUR-UZO",
        "jF21qRsa-idH",
        "lpNPDpH7-mas",
        "O0kJaiUH-wMW",
        "ekf45WPO-y5z",
        "sOdTRS46-14s",
        "-ycTPu1y_EAf",
        "jGMPzHswAQtQ"
      ],
      "include_colab_link": true
    },
    "kernelspec": {
      "name": "python3",
      "display_name": "Python 3"
    },
    "language_info": {
      "name": "python"
    },
    "gpuClass": "standard"
  },
  "cells": [
    {
      "cell_type": "markdown",
      "metadata": {
        "id": "view-in-github",
        "colab_type": "text"
      },
      "source": [
        "<a href=\"https://colab.research.google.com/github/gaetanbrison/AnomalyDAE/blob/master/swap_v2.ipynb\" target=\"_parent\"><img src=\"https://colab.research.google.com/assets/colab-badge.svg\" alt=\"Open In Colab\"/></a>"
      ]
    },
    {
      "cell_type": "markdown",
      "source": [
        "# Neural Swap Approach"
      ],
      "metadata": {
        "id": "c3uQv9-xC8ee"
      }
    },
    {
      "cell_type": "code",
      "execution_count": null,
      "metadata": {
        "id": "_j2XAL09qlTM",
        "colab": {
          "base_uri": "https://localhost:8080/"
        },
        "outputId": "e0904e3d-d554-4378-d0ed-b01c02b1d487"
      },
      "outputs": [
        {
          "output_type": "execute_result",
          "data": {
            "text/plain": [
              "<torch._C.Generator at 0x7ff5f1d24150>"
            ]
          },
          "metadata": {},
          "execution_count": 49
        }
      ],
      "source": [
        "import torch\n",
        "import torch.nn as nn\n",
        "import torch.nn.functional as F\n",
        "import torch.utils.data as data\n",
        "import torch.optim as optim\n",
        "from torchsummary import summary\n",
        "import numpy as np\n",
        "torch.manual_seed(0)"
      ]
    },
    {
      "cell_type": "markdown",
      "source": [
        "## I - Swap Functions\n",
        "\n"
      ],
      "metadata": {
        "id": "Gi9SN9rLC2Mr"
      }
    },
    {
      "cell_type": "code",
      "source": [
        "def swap_tensor(input,indexes):\n",
        "  \"\"\" swap the elements of a layer(neurons) \n",
        "\n",
        "  Parameters:\n",
        "    input: torch.Tensor - float 32\n",
        "    The input tensor\n",
        "    \n",
        "    indexes: list\n",
        "    The indexes of the neurons that are in equilibrium\n",
        "\n",
        "  Returns:\n",
        "    Returns a Tensor that is the combination on one side of the neurons at\n",
        "    equilibrium and the other side the neurons to update based on indexes\n",
        "\n",
        "  Warnings:\n",
        "    1) idx(i) <> idx(i+n)\n",
        "    2) idx(i+1) > idx(i)\n",
        "  \"\"\"\n",
        "\n",
        "  arr = input.detach().numpy()\n",
        "  arr_eq = arr[indexes]\n",
        "  arr_update = np.delete(arr, indexes)\n",
        "  arr_swap = np.concatenate((arr_eq,arr_update))\n",
        "\n",
        "\n",
        "  return torch.tensor(arr_swap)"
      ],
      "metadata": {
        "id": "t7yncib_MIV2"
      },
      "execution_count": null,
      "outputs": []
    },
    {
      "cell_type": "code",
      "source": [
        "def swap_weight(weights,indexes):\n",
        "\n",
        "  \"\"\" swap the elements of a weight matrix \n",
        "  Parameters:\n",
        "    weights: torch.Tensor - float 32\n",
        "    The weights matrix \n",
        "\n",
        "    indexes: torch.Tensor - float 32\n",
        "    The indexes of the neurons' weights that are in equilibrium\n",
        "\n",
        "  Returns:\n",
        "    The weights matrix after the swap operations\n",
        "  \"\"\"\n",
        "\n",
        "  arr_w = np.array(weights.T.tolist(), dtype=\"float32\")\n",
        "  arr_w_eq = arr_w[indexes]\n",
        "  arr_w_update = np.delete(arr_w, indexes,0)\n",
        "  arr_w_swap = np.concatenate((arr_w_eq,arr_w_update))\n",
        "\n",
        "  return torch.tensor(arr_w_swap).T\n"
      ],
      "metadata": {
        "id": "6f0YvGFlW8M3"
      },
      "execution_count": null,
      "outputs": []
    },
    {
      "cell_type": "markdown",
      "source": [
        "validation of the two functions : swap_tensor & swap_weight"
      ],
      "metadata": {
        "id": "XqcMOMTa7SmT"
      }
    },
    {
      "cell_type": "code",
      "source": [
        "# input & weights\n",
        "inputs=torch.randn(123)\n",
        "weights=torch.randn(5,123)"
      ],
      "metadata": {
        "id": "vWXxJco9C5_z"
      },
      "execution_count": null,
      "outputs": []
    },
    {
      "cell_type": "code",
      "source": [
        "# swaped input & weights\n",
        "inputs_swaped=swap_tensor(inputs,[1,4,45,3,44,2])\n",
        "weights_swaped=swap_weight(weights,[1,4,45,3,44,2])"
      ],
      "metadata": {
        "id": "5okd9SWW7edg"
      },
      "execution_count": null,
      "outputs": []
    },
    {
      "cell_type": "code",
      "source": [
        "display(inputs_swaped.shape)\n",
        "display(weights_swaped.shape)\n",
        "display(inputs_swaped.dtype)\n",
        "display(weights_swaped.dtype)\n",
        "display(inputs_swaped.sum())\n",
        "display(weights_swaped.sum())"
      ],
      "metadata": {
        "colab": {
          "base_uri": "https://localhost:8080/",
          "height": 124
        },
        "id": "I4GHBfGmBdee",
        "outputId": "2c396004-3ae3-41ec-ad04-23d8a56daab2"
      },
      "execution_count": null,
      "outputs": [
        {
          "output_type": "display_data",
          "data": {
            "text/plain": [
              "torch.Size([123])"
            ]
          },
          "metadata": {}
        },
        {
          "output_type": "display_data",
          "data": {
            "text/plain": [
              "torch.Size([5, 123])"
            ]
          },
          "metadata": {}
        },
        {
          "output_type": "display_data",
          "data": {
            "text/plain": [
              "torch.float32"
            ]
          },
          "metadata": {}
        },
        {
          "output_type": "display_data",
          "data": {
            "text/plain": [
              "torch.float32"
            ]
          },
          "metadata": {}
        },
        {
          "output_type": "display_data",
          "data": {
            "text/plain": [
              "tensor(-0.6675)"
            ]
          },
          "metadata": {}
        },
        {
          "output_type": "display_data",
          "data": {
            "text/plain": [
              "tensor(25.0241)"
            ]
          },
          "metadata": {}
        }
      ]
    },
    {
      "cell_type": "code",
      "source": [
        "type(inputs_swaped[0])"
      ],
      "metadata": {
        "colab": {
          "base_uri": "https://localhost:8080/"
        },
        "id": "qEEyWNFnk10d",
        "outputId": "83ed9c98-41e7-4376-ea79-a2e65d1642f9"
      },
      "execution_count": null,
      "outputs": [
        {
          "output_type": "execute_result",
          "data": {
            "text/plain": [
              "torch.Tensor"
            ]
          },
          "metadata": {},
          "execution_count": 55
        }
      ]
    },
    {
      "cell_type": "code",
      "source": [
        "inputs_swaped[0]"
      ],
      "metadata": {
        "colab": {
          "base_uri": "https://localhost:8080/"
        },
        "id": "0gzCoUInk8n2",
        "outputId": "04dba107-ba81-43cb-e43c-6d109cac92e6"
      },
      "execution_count": null,
      "outputs": [
        {
          "output_type": "execute_result",
          "data": {
            "text/plain": [
              "tensor(-1.1524)"
            ]
          },
          "metadata": {},
          "execution_count": 56
        }
      ]
    },
    {
      "cell_type": "code",
      "source": [
        "# result with input & weights\n",
        "torch.matmul(inputs,weights.T)"
      ],
      "metadata": {
        "colab": {
          "base_uri": "https://localhost:8080/"
        },
        "id": "ie1iZtPIBUH9",
        "outputId": "1120cc2e-a6aa-491e-f220-ee29e8ac695e"
      },
      "execution_count": null,
      "outputs": [
        {
          "output_type": "execute_result",
          "data": {
            "text/plain": [
              "tensor([  2.2635, -22.3689,  -4.2215,  22.5222,  -0.2775])"
            ]
          },
          "metadata": {},
          "execution_count": 57
        }
      ]
    },
    {
      "cell_type": "code",
      "source": [
        "# result with swaped input & weights\n",
        "\n",
        "torch.matmul(inputs_swaped,weights_swaped.T)\n",
        "\n",
        "# we obtain the same result as the previous ==> OK"
      ],
      "metadata": {
        "colab": {
          "base_uri": "https://localhost:8080/"
        },
        "id": "v_GbJPUjBYHu",
        "outputId": "5ff66154-0863-40a2-f79e-cbb7b384c113"
      },
      "execution_count": null,
      "outputs": [
        {
          "output_type": "execute_result",
          "data": {
            "text/plain": [
              "tensor([  2.2635, -22.3689,  -4.2215,  22.5222,  -0.2775])"
            ]
          },
          "metadata": {},
          "execution_count": 58
        }
      ]
    },
    {
      "cell_type": "markdown",
      "source": [
        "## II - Example"
      ],
      "metadata": {
        "id": "S6_S6Ci5egpd"
      }
    },
    {
      "cell_type": "code",
      "source": [
        "inputs = torch.Tensor([1,4,1,7,3])\n",
        "weights=torch.Tensor([[1,2,3,4,5],[6,7,8,9,10],[11,12,13,14,15]])"
      ],
      "metadata": {
        "id": "JJ0fjoRAergL"
      },
      "execution_count": null,
      "outputs": []
    },
    {
      "cell_type": "code",
      "source": [
        "display(inputs.shape)\n",
        "display(weights.shape)"
      ],
      "metadata": {
        "colab": {
          "base_uri": "https://localhost:8080/",
          "height": 53
        },
        "id": "FSX7DuxZef4I",
        "outputId": "601dc355-170c-4304-a76d-a9c94a5ac721"
      },
      "execution_count": null,
      "outputs": [
        {
          "output_type": "display_data",
          "data": {
            "text/plain": [
              "torch.Size([5])"
            ]
          },
          "metadata": {}
        },
        {
          "output_type": "display_data",
          "data": {
            "text/plain": [
              "torch.Size([3, 5])"
            ]
          },
          "metadata": {}
        }
      ]
    },
    {
      "cell_type": "code",
      "source": [
        "inputs_swaped=swap_tensor(inputs,[1,3])\n",
        "weights_swaped=swap_weight(weights,[1,3])"
      ],
      "metadata": {
        "id": "TlSKPNfofafn"
      },
      "execution_count": null,
      "outputs": []
    },
    {
      "cell_type": "code",
      "source": [
        "# result with input & weights\n",
        "torch.matmul(inputs,weights.T)"
      ],
      "metadata": {
        "colab": {
          "base_uri": "https://localhost:8080/"
        },
        "id": "cGg9t7-kfhCl",
        "outputId": "67cd1a33-3bee-4c0a-d85d-a58c8dceaa8e"
      },
      "execution_count": null,
      "outputs": [
        {
          "output_type": "execute_result",
          "data": {
            "text/plain": [
              "tensor([ 55., 135., 215.])"
            ]
          },
          "metadata": {},
          "execution_count": 62
        }
      ]
    },
    {
      "cell_type": "code",
      "source": [
        "torch.matmul(inputs_swaped,weights_swaped.T)"
      ],
      "metadata": {
        "colab": {
          "base_uri": "https://localhost:8080/"
        },
        "id": "ltqnEqJHfivg",
        "outputId": "21690d92-ab87-4e1d-de0e-cef8126e0174"
      },
      "execution_count": null,
      "outputs": [
        {
          "output_type": "execute_result",
          "data": {
            "text/plain": [
              "tensor([ 55., 135., 215.])"
            ]
          },
          "metadata": {},
          "execution_count": 63
        }
      ]
    },
    {
      "cell_type": "code",
      "source": [
        "eq_indexes_list=[[],[1,3],[1,2],[1],[]]\n",
        "for list_indexes in eq_indexes_list:\n",
        "  print(list_indexes)\n",
        "  print(swap_tensor(inputs,list_indexes))"
      ],
      "metadata": {
        "colab": {
          "base_uri": "https://localhost:8080/"
        },
        "id": "dp1Kc8NHgp_Z",
        "outputId": "7b1abe8f-8717-4f60-cdb0-97f5307a8c91"
      },
      "execution_count": null,
      "outputs": [
        {
          "output_type": "stream",
          "name": "stdout",
          "text": [
            "[]\n",
            "tensor([1., 4., 1., 7., 3.])\n",
            "[1, 3]\n",
            "tensor([4., 7., 1., 1., 3.])\n",
            "[1, 2]\n",
            "tensor([4., 1., 1., 7., 3.])\n",
            "[1]\n",
            "tensor([4., 1., 1., 7., 3.])\n",
            "[]\n",
            "tensor([1., 4., 1., 7., 3.])\n"
          ]
        }
      ]
    },
    {
      "cell_type": "code",
      "source": [
        "eq_indexes_list=[[],[1,3],[1,2],[1],[]]\n",
        "for list_indexes in eq_indexes_list:\n",
        "  print(list_indexes)\n",
        "  print(swap_weight(weights,list_indexes))"
      ],
      "metadata": {
        "colab": {
          "base_uri": "https://localhost:8080/"
        },
        "id": "xKUv7mGthbry",
        "outputId": "466e3351-6038-4967-c4c8-d830d464f2e1"
      },
      "execution_count": null,
      "outputs": [
        {
          "output_type": "stream",
          "name": "stdout",
          "text": [
            "[]\n",
            "tensor([[ 1.,  2.,  3.,  4.,  5.],\n",
            "        [ 6.,  7.,  8.,  9., 10.],\n",
            "        [11., 12., 13., 14., 15.]])\n",
            "[1, 3]\n",
            "tensor([[ 2.,  4.,  1.,  3.,  5.],\n",
            "        [ 7.,  9.,  6.,  8., 10.],\n",
            "        [12., 14., 11., 13., 15.]])\n",
            "[1, 2]\n",
            "tensor([[ 2.,  3.,  1.,  4.,  5.],\n",
            "        [ 7.,  8.,  6.,  9., 10.],\n",
            "        [12., 13., 11., 14., 15.]])\n",
            "[1]\n",
            "tensor([[ 2.,  1.,  3.,  4.,  5.],\n",
            "        [ 7.,  6.,  8.,  9., 10.],\n",
            "        [12., 11., 13., 14., 15.]])\n",
            "[]\n",
            "tensor([[ 1.,  2.,  3.,  4.,  5.],\n",
            "        [ 6.,  7.,  8.,  9., 10.],\n",
            "        [11., 12., 13., 14., 15.]])\n"
          ]
        }
      ]
    },
    {
      "cell_type": "markdown",
      "source": [
        "\n",
        "## III - Neurons Swap"
      ],
      "metadata": {
        "id": "rrBkQX176Zlr"
      }
    },
    {
      "cell_type": "markdown",
      "source": [
        "Let's start with a simple neural network, and assume that the green neurons(7,9,12,13,16) are in equilibrium"
      ],
      "metadata": {
        "id": "0wS-c5nLTI72"
      }
    },
    {
      "cell_type": "markdown",
      "source": [
        "![1.drawio (2).png](data:image/png;base64,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)"
      ],
      "metadata": {
        "id": "WIkAJtKj42N6"
      }
    },
    {
      "cell_type": "code",
      "source": [
        "\n",
        "\"\"\"the indices of the neurons that are in equilibrium are :\n",
        "\n",
        "nothing for layer 1\n",
        "[1,3] for layer 2\n",
        "[1,2] for layer 3\n",
        "[1] for layer 4\n",
        "nothing for layer 5 \"\"\"\n",
        "\n",
        "\n",
        "eq_indexes_list=[[],[1,3],[1,2],[1],[]]"
      ],
      "metadata": {
        "id": "uphGnwn7MoBw"
      },
      "execution_count": null,
      "outputs": []
    },
    {
      "cell_type": "code",
      "source": [
        "# A simple hook class that returns the input and output of a layer during forward/backward pass\n",
        "# It'll be used to verify if the swap went well throughout the layers(inputs&outputs)\n",
        "\n",
        "class Hook():\n",
        "\n",
        "    def __init__(self, module, backward=False):\n",
        "      \n",
        "        if backward==False:\n",
        "            self.hook = module.register_forward_hook(self.hook_fn)\n",
        "        else:\n",
        "            self.hook = module.register_backward_hook(self.hook_fn)\n",
        "\n",
        "    def hook_fn(self, module, input, output):\n",
        "        self.input = input\n",
        "        self.output = output\n",
        "\n",
        "    def close(self):\n",
        "        self.hook.remove()"
      ],
      "metadata": {
        "id": "TDSYiOSIR7-O"
      },
      "execution_count": null,
      "outputs": []
    },
    {
      "cell_type": "code",
      "source": [
        "class NN(nn.Module):\n",
        "\n",
        "    def __init__(self,input_size,output_size):\n",
        "\n",
        "        super(NN, self).__init__()\n",
        "        self.linear1=nn.Linear(input_size, 5,bias=False)\n",
        "        self.linear2=nn.Linear(5, 4,bias=False)\n",
        "        self.linear3=nn.Linear(4, 3,bias=False)\n",
        "        self.linear4=nn.Linear(3, output_size,bias=False)\n",
        "\n",
        "\n",
        "    def forward(self, x):\n",
        "\n",
        "        x = self.linear1(x)\n",
        "        x = nn.functional.relu(x)\n",
        "\n",
        "        x = self.linear2(x)\n",
        "        x = nn.functional.relu(x)\n",
        "\n",
        "        x = self.linear3(x)\n",
        "        x = nn.functional.relu(x)\n",
        "\n",
        "        x = self.linear4(x)\n",
        "\n",
        "        return x"
      ],
      "metadata": {
        "id": "MXaStAQpql2H"
      },
      "execution_count": null,
      "outputs": []
    },
    {
      "cell_type": "markdown",
      "source": [
        "We make a copy of the neural network, and add the necessary modifications to allow permutations of neurons. \n",
        "\n",
        "\n"
      ],
      "metadata": {
        "id": "cV0VKKa6TMkw"
      }
    },
    {
      "cell_type": "code",
      "source": [
        "class NN_Modifed(nn.Module):\n",
        "\n",
        "    def __init__(self,input_size,output_size):\n",
        "\n",
        "        super(NN_Modifed, self).__init__()\n",
        "        self.linear1=nn.Linear(input_size, 5,bias=False)\n",
        "        self.linear2=nn.Linear(5, 4,bias=False)\n",
        "        self.linear3=nn.Linear(4, 3,bias=False)\n",
        "        self.linear4=nn.Linear(3, output_size,bias=False)\n",
        "\n",
        "\n",
        "    def forward(self, x,eq_indexes_list):\n",
        "        x=swap_tensor(x,eq_indexes_list[0])\n",
        "        \n",
        "        x = self.linear1(x)\n",
        "        x = nn.functional.relu(x)\n",
        "        x=swap_tensor(x,eq_indexes_list[1])\n",
        "\n",
        "\n",
        "        x = self.linear2(x)\n",
        "        x = nn.functional.relu(x)\n",
        "        x=swap_tensor(x,eq_indexes_list[2])\n",
        "\n",
        "        x = self.linear3(x)\n",
        "        x = nn.functional.relu(x)\n",
        "        x=swap_tensor(x,eq_indexes_list[3])\n",
        "\n",
        "        x = self.linear4(x)\n",
        "\n",
        "        return x"
      ],
      "metadata": {
        "id": "jVrwsxVgBsrs"
      },
      "execution_count": null,
      "outputs": []
    },
    {
      "cell_type": "code",
      "source": [
        "# make a copy of the NN parameters to NN_Modifed\n",
        "import random\n",
        "\n",
        "model1=NN(5,3)\n",
        "model2=NN_Modifed(5,3)\n",
        "\n",
        "model2.load_state_dict(model1.state_dict())\n"
      ],
      "metadata": {
        "id": "InvjbIjKql5F",
        "colab": {
          "base_uri": "https://localhost:8080/"
        },
        "outputId": "bc1cdb13-a5a1-40e9-b5ce-d3e97aab3916"
      },
      "execution_count": null,
      "outputs": [
        {
          "output_type": "execute_result",
          "data": {
            "text/plain": [
              "<All keys matched successfully>"
            ]
          },
          "metadata": {},
          "execution_count": 70
        }
      ]
    },
    {
      "cell_type": "code",
      "source": [
        "model1.state_dict()"
      ],
      "metadata": {
        "id": "bH0UnPfORgS5",
        "outputId": "4bd7efec-aa05-4135-a1d3-c12733cd2036",
        "colab": {
          "base_uri": "https://localhost:8080/"
        }
      },
      "execution_count": null,
      "outputs": [
        {
          "output_type": "execute_result",
          "data": {
            "text/plain": [
              "OrderedDict([('linear1.weight',\n",
              "              tensor([[ 1.4668e-01, -3.9180e-01,  2.4516e-01,  2.3280e-01,  2.7736e-01],\n",
              "                      [-2.8512e-01,  4.4543e-01, -2.6509e-01,  4.4647e-01, -4.2919e-01],\n",
              "                      [-3.9845e-01,  2.7468e-01,  4.6740e-02,  2.5799e-02, -2.4765e-01],\n",
              "                      [-1.8760e-01, -1.3076e-01, -4.3566e-01,  2.3241e-02,  7.9094e-02],\n",
              "                      [-3.7862e-04,  1.4442e-01,  4.2434e-01,  1.1891e-01, -1.6371e-01]])),\n",
              "             ('linear2.weight',\n",
              "              tensor([[-0.1840, -0.2861, -0.3100, -0.0720, -0.0791],\n",
              "                      [ 0.1989, -0.1912,  0.3565, -0.3138,  0.0013],\n",
              "                      [ 0.4020,  0.4447, -0.2591,  0.0797,  0.0528],\n",
              "                      [-0.2097, -0.1545,  0.1211, -0.3110,  0.0738]])),\n",
              "             ('linear3.weight', tensor([[ 0.2164, -0.1970,  0.4153, -0.0329],\n",
              "                      [ 0.2269,  0.4952, -0.1528,  0.2717],\n",
              "                      [-0.1430, -0.0730, -0.0847, -0.0031]])),\n",
              "             ('linear4.weight', tensor([[-0.2181,  0.1353,  0.0218],\n",
              "                      [ 0.3660, -0.1169,  0.0579],\n",
              "                      [-0.2148, -0.4835,  0.2336]]))])"
            ]
          },
          "metadata": {},
          "execution_count": 71
        }
      ]
    },
    {
      "cell_type": "markdown",
      "source": [
        "swapping the neurons requires swapping the weights as well to get the same result at the end"
      ],
      "metadata": {
        "id": "2Qx1uvZO5oFR"
      }
    },
    {
      "cell_type": "code",
      "source": [
        "# swap the parameters using swap_weight\n",
        "\n",
        "with torch.no_grad():\n",
        "  for idx,layer in enumerate(list(model2.children())):\n",
        "    for param in layer.parameters():\n",
        "      param.copy_(swap_weight(param,eq_indexes_list[idx]))\n"
      ],
      "metadata": {
        "id": "f4HeWluez6AJ"
      },
      "execution_count": null,
      "outputs": []
    },
    {
      "cell_type": "code",
      "source": [
        "# input data\n",
        "data=torch.randn(5,requires_grad=False)"
      ],
      "metadata": {
        "id": "wOWMTTIHtqcP"
      },
      "execution_count": null,
      "outputs": []
    },
    {
      "cell_type": "code",
      "source": [
        "model2.state_dict()"
      ],
      "metadata": {
        "colab": {
          "base_uri": "https://localhost:8080/"
        },
        "id": "_fuVNnjhirFZ",
        "outputId": "33cdc939-5fce-486c-9e06-49c74033b667"
      },
      "execution_count": null,
      "outputs": [
        {
          "output_type": "execute_result",
          "data": {
            "text/plain": [
              "OrderedDict([('linear1.weight',\n",
              "              tensor([[ 1.4668e-01, -3.9180e-01,  2.4516e-01,  2.3280e-01,  2.7736e-01],\n",
              "                      [-2.8512e-01,  4.4543e-01, -2.6509e-01,  4.4647e-01, -4.2919e-01],\n",
              "                      [-3.9845e-01,  2.7468e-01,  4.6740e-02,  2.5799e-02, -2.4765e-01],\n",
              "                      [-1.8760e-01, -1.3076e-01, -4.3566e-01,  2.3241e-02,  7.9094e-02],\n",
              "                      [-3.7862e-04,  1.4442e-01,  4.2434e-01,  1.1891e-01, -1.6371e-01]])),\n",
              "             ('linear2.weight',\n",
              "              tensor([[-0.2861, -0.0720, -0.1840, -0.3100, -0.0791],\n",
              "                      [-0.1912, -0.3138,  0.1989,  0.3565,  0.0013],\n",
              "                      [ 0.4447,  0.0797,  0.4020, -0.2591,  0.0528],\n",
              "                      [-0.1545, -0.3110, -0.2097,  0.1211,  0.0738]])),\n",
              "             ('linear3.weight', tensor([[-0.1970,  0.4153,  0.2164, -0.0329],\n",
              "                      [ 0.4952, -0.1528,  0.2269,  0.2717],\n",
              "                      [-0.0730, -0.0847, -0.1430, -0.0031]])),\n",
              "             ('linear4.weight', tensor([[ 0.1353, -0.2181,  0.0218],\n",
              "                      [-0.1169,  0.3660,  0.0579],\n",
              "                      [-0.4835, -0.2148,  0.2336]]))])"
            ]
          },
          "metadata": {},
          "execution_count": 74
        }
      ]
    },
    {
      "cell_type": "markdown",
      "source": [
        "![1.drawio.png](data:image/png;base64,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)"
      ],
      "metadata": {
        "id": "4N2xE5T34diD"
      }
    },
    {
      "cell_type": "markdown",
      "source": [
        "## IV - Comparaison"
      ],
      "metadata": {
        "id": "keo_DdqW53d2"
      }
    },
    {
      "cell_type": "code",
      "source": [
        "# register hooks on each layer\n",
        "hookF1 = [Hook(layer[1]) for layer in list(model1._modules.items())]\n",
        "hookF2 = [Hook(layer[1]) for layer in list(model2._modules.items())]\n",
        "\n",
        "# run a data batch\n",
        "out1=model1(data)\n",
        "out2 = model2(data,eq_indexes_list)\n",
        "\n",
        "print('***'*3+'  Forward Hooks Inputs & Outputs for model1  '+'***'*3)\n",
        "for idx,hook1 in enumerate(hookF1):\n",
        "    print(\"\\t Layer \",idx+1)\n",
        "\n",
        "    print(\"Inuput : \",hook1.input)\n",
        "    print(\"Output : \",hook1.output)\n",
        "    print('---'*17)\n",
        "    \n",
        "print('\\n')\n",
        "print('\\n')\n",
        "\n",
        "print('***'*3+'  Forward Hooks Inputs & Outputs for model2(With Neurons swap)  '+'***'*3)\n",
        "for idx,hook2 in enumerate(hookF2):\n",
        "    print(\"\\t Layer \",idx+1)\n",
        "    print(\"Inuput : \",hook2.input)\n",
        "    print(\"Output : \",hook2.output)\n",
        "    print('---'*17)\n",
        "\n"
      ],
      "metadata": {
        "colab": {
          "base_uri": "https://localhost:8080/"
        },
        "id": "AZqffq6942ma",
        "outputId": "71760d92-956b-41cd-f019-1da0bd0d1d21"
      },
      "execution_count": null,
      "outputs": [
        {
          "output_type": "stream",
          "name": "stdout",
          "text": [
            "*********  Forward Hooks Inputs & Outputs for model1  *********\n",
            "\t Layer  1\n",
            "Inuput :  (tensor([-1.1744, -1.4021,  1.0038, -0.7704,  1.3836]),)\n",
            "Output :  tensor([ 0.8276, -1.4936, -0.2328,  0.0579, -0.0942],\n",
            "       grad_fn=<SqueezeBackward3>)\n",
            "---------------------------------------------------\n",
            "\t Layer  2\n",
            "Inuput :  (tensor([0.8276, 0.0000, 0.0000, 0.0579, 0.0000], grad_fn=<ReluBackward0>),)\n",
            "Output :  tensor([-0.1565,  0.1465,  0.3373, -0.1915], grad_fn=<SqueezeBackward3>)\n",
            "---------------------------------------------------\n",
            "\t Layer  3\n",
            "Inuput :  (tensor([0.0000, 0.1465, 0.3373, 0.0000], grad_fn=<ReluBackward0>),)\n",
            "Output :  tensor([ 0.1112,  0.0210, -0.0393], grad_fn=<SqueezeBackward3>)\n",
            "---------------------------------------------------\n",
            "\t Layer  4\n",
            "Inuput :  (tensor([0.1112, 0.0210, 0.0000], grad_fn=<ReluBackward0>),)\n",
            "Output :  tensor([-0.0214,  0.0383, -0.0340], grad_fn=<SqueezeBackward3>)\n",
            "---------------------------------------------------\n",
            "\n",
            "\n",
            "\n",
            "\n",
            "*********  Forward Hooks Inputs & Outputs for model2(With Neurons swap)  *********\n",
            "\t Layer  1\n",
            "Inuput :  (tensor([-1.1744, -1.4021,  1.0038, -0.7704,  1.3836]),)\n",
            "Output :  tensor([ 0.8276, -1.4936, -0.2328,  0.0579, -0.0942],\n",
            "       grad_fn=<SqueezeBackward3>)\n",
            "---------------------------------------------------\n",
            "\t Layer  2\n",
            "Inuput :  (tensor([0.0000, 0.0579, 0.8276, 0.0000, 0.0000]),)\n",
            "Output :  tensor([-0.1565,  0.1465,  0.3373, -0.1915], grad_fn=<SqueezeBackward3>)\n",
            "---------------------------------------------------\n",
            "\t Layer  3\n",
            "Inuput :  (tensor([0.1465, 0.3373, 0.0000, 0.0000]),)\n",
            "Output :  tensor([ 0.1112,  0.0210, -0.0393], grad_fn=<SqueezeBackward3>)\n",
            "---------------------------------------------------\n",
            "\t Layer  4\n",
            "Inuput :  (tensor([0.0210, 0.1112, 0.0000]),)\n",
            "Output :  tensor([-0.0214,  0.0383, -0.0340], grad_fn=<SqueezeBackward3>)\n",
            "---------------------------------------------------\n"
          ]
        }
      ]
    },
    {
      "cell_type": "code",
      "source": [
        "# out = out2 ==> permutation : OK \n",
        "print(out1)\n",
        "print(out2)"
      ],
      "metadata": {
        "colab": {
          "base_uri": "https://localhost:8080/"
        },
        "id": "KZcTJXlU42pr",
        "outputId": "79dbef6d-f7c1-486f-e833-bb5f84e84258"
      },
      "execution_count": null,
      "outputs": [
        {
          "output_type": "stream",
          "name": "stdout",
          "text": [
            "tensor([-0.0214,  0.0383, -0.0340], grad_fn=<SqueezeBackward3>)\n",
            "tensor([-0.0214,  0.0383, -0.0340], grad_fn=<SqueezeBackward3>)\n"
          ]
        }
      ]
    },
    {
      "cell_type": "markdown",
      "source": [
        "NEXT STEP :  generalize & automate the swap process..by using Classes,decorators for example..."
      ],
      "metadata": {
        "id": "nkWXQ1_cS5GO"
      }
    },
    {
      "cell_type": "markdown",
      "source": [
        "## V - Backpropagation"
      ],
      "metadata": {
        "id": "nWVKSmjl83Yk"
      }
    },
    {
      "cell_type": "markdown",
      "source": [
        "### i - Intro"
      ],
      "metadata": {
        "id": "iQUnPPF49CR6"
      }
    },
    {
      "cell_type": "markdown",
      "source": [
        "## Autograd - Automatic Differentiation\n",
        "\n",
        "\n",
        "The PyTorch <a href='https://pytorch.org/docs/stable/autograd.html'><strong><tt>autograd</tt></strong></a> package provides automatic differentiation for all operations on Tensors. This is because operations become attributes of the tensors themselves. When a Tensor's <tt>.requires_grad</tt> attribute is set to True, it starts to track all operations on it. When an operation finishes you can call <tt>.backward()</tt> and have all the gradients computed automatically. The gradient for a tensor will be accumulated into its <tt>.grad</tt> attribute.\n",
        "    \n"
      ],
      "metadata": {
        "id": "kfXzmR1O9xmi"
      }
    },
    {
      "cell_type": "code",
      "source": [],
      "metadata": {
        "id": "3PfeDm-07wdh"
      },
      "execution_count": null,
      "outputs": []
    },
    {
      "cell_type": "markdown",
      "source": [
        "### ii - Simple Backpropagation"
      ],
      "metadata": {
        "id": "YqU9tEw19Ibt"
      }
    },
    {
      "cell_type": "markdown",
      "source": [
        "We'll start by applying a single polynomial function $y = f(x)$ to tensor $x$. Then we'll backprop and print the gradient $\\frac {dy} {dx}$.\n",
        "\n",
        "$\\begin{split}Function:\\quad y &= 2x^4 + x^3 + 3x^2 + 5x + 1 \\\\\n",
        "Derivative:\\quad y' &= 8x^3 + 3x^2 + 6x + 5\\end{split}$\n"
      ],
      "metadata": {
        "id": "AJ8VzDyx96GO"
      }
    },
    {
      "cell_type": "markdown",
      "source": [
        "\n",
        "#### Step 1. Perform standard imports"
      ],
      "metadata": {
        "id": "-A0LB5r29M2N"
      }
    },
    {
      "cell_type": "code",
      "source": [
        "import torch"
      ],
      "metadata": {
        "id": "SweFlZ1299Ue"
      },
      "execution_count": null,
      "outputs": []
    },
    {
      "cell_type": "markdown",
      "source": [
        "#### Step 2. Create a tensor with <tt>requires_grad</tt> set to True\n",
        "This sets up computational tracking on the tensor."
      ],
      "metadata": {
        "id": "fdU_zJRs9-uT"
      }
    },
    {
      "cell_type": "code",
      "source": [
        "x = torch.tensor(2.0, requires_grad=True)"
      ],
      "metadata": {
        "id": "mbBHDNKQ-AUI"
      },
      "execution_count": null,
      "outputs": []
    },
    {
      "cell_type": "markdown",
      "source": [
        "#### Step 3. Define a function"
      ],
      "metadata": {
        "id": "bo7O-Vvm-HuZ"
      }
    },
    {
      "cell_type": "code",
      "source": [
        "y = 2*x**4 + x**3 + 3*x**2 + 5*x + 1\n",
        "\n",
        "print(y)"
      ],
      "metadata": {
        "colab": {
          "base_uri": "https://localhost:8080/"
        },
        "id": "ETR6qulJ-AsL",
        "outputId": "57133de6-e23f-4cf9-e4c8-d1e534c7df93"
      },
      "execution_count": null,
      "outputs": [
        {
          "output_type": "stream",
          "name": "stdout",
          "text": [
            "tensor(63., grad_fn=<AddBackward0>)\n"
          ]
        }
      ]
    },
    {
      "cell_type": "markdown",
      "source": [
        "Since $y$ was created as a result of an operation, it has an associated gradient function accessible as <tt>y.grad_fn</tt><br>\n",
        "The calculation of $y$ is done as:<br>\n",
        "\n",
        "$\\quad y=2(2)^4+(2)^3+3(2)^2+5(2)+1 = 32+8+12+10+1 = 63$\n",
        "\n",
        "This is the value of $y$ when $x=2$.\n"
      ],
      "metadata": {
        "id": "18J_GzMG-LNw"
      }
    },
    {
      "cell_type": "markdown",
      "source": [
        "#### Step 4. Backprop"
      ],
      "metadata": {
        "id": "oN5I7A99-Mkf"
      }
    },
    {
      "cell_type": "code",
      "source": [
        "y.backward()"
      ],
      "metadata": {
        "id": "Cg2WHkiI-AuX"
      },
      "execution_count": null,
      "outputs": []
    },
    {
      "cell_type": "markdown",
      "source": [
        "#### Step 5. Display the resulting gradient"
      ],
      "metadata": {
        "id": "mLx-AEmB-PIu"
      }
    },
    {
      "cell_type": "code",
      "source": [
        "print(x.grad)"
      ],
      "metadata": {
        "colab": {
          "base_uri": "https://localhost:8080/"
        },
        "id": "od1ShBJE-AxK",
        "outputId": "df0c2be1-7974-44f1-9aa3-cfd6832db2e7"
      },
      "execution_count": null,
      "outputs": [
        {
          "output_type": "stream",
          "name": "stdout",
          "text": [
            "tensor(93.)\n"
          ]
        }
      ]
    },
    {
      "cell_type": "markdown",
      "source": [
        "Note that <tt>x.grad</tt> is an attribute of tensor $x$, so we don't use parentheses. The computation is the result of<br>\n",
        "\n",
        "$\\quad y'=8(2)^3+3(2)^2+6(2)+5 = 64+12+12+5 = 93$\n",
        "\n",
        "This is the slope of the polynomial at the point $(2,63)$."
      ],
      "metadata": {
        "id": "A3a5hyy2-R1H"
      }
    },
    {
      "cell_type": "markdown",
      "source": [
        "### iii - Backpropagation on multiple steps"
      ],
      "metadata": {
        "id": "5mdQ8UUR-UZO"
      }
    },
    {
      "cell_type": "markdown",
      "source": [
        "Now let's do something more complex, involving layers $y$ and $z$ between $x$ and our output layer $out$."
      ],
      "metadata": {
        "id": "r_e4SDKg-g5x"
      }
    },
    {
      "cell_type": "markdown",
      "source": [
        "#### 1. Create a tensor"
      ],
      "metadata": {
        "id": "jF21qRsa-idH"
      }
    },
    {
      "cell_type": "code",
      "source": [
        "x = torch.tensor([[1.,2,3],[3,2,1]], requires_grad=True)\n",
        "print(x)"
      ],
      "metadata": {
        "colab": {
          "base_uri": "https://localhost:8080/"
        },
        "id": "OzW7ZlFR-aGt",
        "outputId": "233baf8a-1adf-44b2-98a7-8b547f73a80e"
      },
      "execution_count": null,
      "outputs": [
        {
          "output_type": "stream",
          "name": "stdout",
          "text": [
            "tensor([[1., 2., 3.],\n",
            "        [3., 2., 1.]], requires_grad=True)\n"
          ]
        }
      ]
    },
    {
      "cell_type": "markdown",
      "source": [
        "#### 2. Create the first layer with $y = 3x+2$"
      ],
      "metadata": {
        "id": "lpNPDpH7-mas"
      }
    },
    {
      "cell_type": "code",
      "source": [
        "y = 3*x + 2\n",
        "print(y)"
      ],
      "metadata": {
        "colab": {
          "base_uri": "https://localhost:8080/"
        },
        "id": "EMGcGPD_-m83",
        "outputId": "c98d4b02-b5da-4225-8ec4-cd68af12bc49"
      },
      "execution_count": null,
      "outputs": [
        {
          "output_type": "stream",
          "name": "stdout",
          "text": [
            "tensor([[ 5.,  8., 11.],\n",
            "        [11.,  8.,  5.]], grad_fn=<AddBackward0>)\n"
          ]
        }
      ]
    },
    {
      "cell_type": "markdown",
      "source": [
        "#### 3. Create the second layer with $z = 2y^2$"
      ],
      "metadata": {
        "id": "O0kJaiUH-wMW"
      }
    },
    {
      "cell_type": "code",
      "source": [
        "z = 2*y**2\n",
        "print(z)"
      ],
      "metadata": {
        "colab": {
          "base_uri": "https://localhost:8080/"
        },
        "id": "lA08REzF-xkH",
        "outputId": "8837cc31-cc5c-40fd-9bd8-5c5c9ee33546"
      },
      "execution_count": null,
      "outputs": [
        {
          "output_type": "stream",
          "name": "stdout",
          "text": [
            "tensor([[ 50., 128., 242.],\n",
            "        [242., 128.,  50.]], grad_fn=<MulBackward0>)\n"
          ]
        }
      ]
    },
    {
      "cell_type": "markdown",
      "source": [
        "#### 4. Set the output to be the matrix mean"
      ],
      "metadata": {
        "id": "ekf45WPO-y5z"
      }
    },
    {
      "cell_type": "code",
      "source": [
        "out = z.mean()\n",
        "print(out)"
      ],
      "metadata": {
        "colab": {
          "base_uri": "https://localhost:8080/"
        },
        "id": "tK5BjLFa-0Z1",
        "outputId": "c1443194-1329-487a-ed61-b5420fa73198"
      },
      "execution_count": null,
      "outputs": [
        {
          "output_type": "stream",
          "name": "stdout",
          "text": [
            "tensor(140., grad_fn=<MeanBackward0>)\n"
          ]
        }
      ]
    },
    {
      "cell_type": "markdown",
      "source": [
        "#### 5. Now perform back-propagation to find the gradient of x w.r.t out"
      ],
      "metadata": {
        "id": "sOdTRS46-14s"
      }
    },
    {
      "cell_type": "code",
      "source": [
        "out.backward()\n",
        "print(x.grad)"
      ],
      "metadata": {
        "colab": {
          "base_uri": "https://localhost:8080/"
        },
        "id": "AboHWxIj-36g",
        "outputId": "ff50858a-d0df-4b4b-8b43-cd0392c73a9c"
      },
      "execution_count": null,
      "outputs": [
        {
          "output_type": "stream",
          "name": "stdout",
          "text": [
            "tensor([[10., 16., 22.],\n",
            "        [22., 16., 10.]])\n"
          ]
        }
      ]
    },
    {
      "cell_type": "markdown",
      "source": [
        "You should see a 2x3 matrix. If we call the final <tt>out</tt> tensor \"$o$\", we can calculate the partial derivative of $o$ with respect to $x_i$ as follows:<br>\n",
        "\n",
        "$o = \\frac {1} {6}\\sum_{i=1}^{6} z_i$<br>\n",
        "\n",
        "$z_i = 2(y_i)^2 = 2(3x_i+2)^2$<br>\n",
        "\n",
        "To solve the derivative of $z_i$ we use the <a href='https://en.wikipedia.org/wiki/Chain_rule'>chain rule</a>, where the derivative of $f(g(x)) = f'(g(x))g'(x)$<br>\n",
        "\n",
        "In this case<br>\n",
        "\n",
        "$\\begin{split} f(g(x)) &= 2(g(x))^2, \\quad &f'(g(x)) = 4g(x) \\\\\n",
        "g(x) &= 3x+2, &g'(x) = 3 \\\\\n",
        "\\frac {dz} {dx} &= 4g(x)\\times 3 &= 12(3x+2) \\end{split}$\n",
        "\n",
        "Therefore,<br>\n",
        "\n",
        "$\\frac{\\partial o}{\\partial x_i} = \\frac{1}{6}\\times 12(3x+2)$<br>\n",
        "\n",
        "$\\frac{\\partial o}{\\partial x_i}\\bigr\\rvert_{x_i=1} = 2(3(1)+2) = 10$\n",
        "\n",
        "$\\frac{\\partial o}{\\partial x_i}\\bigr\\rvert_{x_i=2} = 2(3(2)+2) = 16$\n",
        "\n",
        "$\\frac{\\partial o}{\\partial x_i}\\bigr\\rvert_{x_i=3} = 2(3(3)+2) = 22$"
      ],
      "metadata": {
        "id": "e2QAR-O8-54y"
      }
    },
    {
      "cell_type": "markdown",
      "source": [
        "### iv - Backpropagation from Scratch"
      ],
      "metadata": {
        "id": "-ycTPu1y_EAf"
      }
    },
    {
      "cell_type": "code",
      "source": [
        "# Load libraries\n",
        "import numpy as np\n",
        "from sklearn.datasets import load_digits\n",
        "from sklearn.preprocessing import LabelBinarizer\n",
        "import matplotlib.pyplot as plt\n",
        "import seaborn as sns\n",
        "from sklearn.metrics import log_loss, accuracy_score\n",
        "from sklearn.model_selection import train_test_split\n",
        "from sklearn.neural_network import MLPClassifier"
      ],
      "metadata": {
        "id": "NpuIRWHC_HRd"
      },
      "execution_count": null,
      "outputs": []
    },
    {
      "cell_type": "code",
      "source": [
        "# Loading our MNIST dataset\n",
        "data = load_digits()\n",
        "X = data['data']\n",
        "y = data['target']\n"
      ],
      "metadata": {
        "id": "A2b7tZV9Au94"
      },
      "execution_count": null,
      "outputs": []
    },
    {
      "cell_type": "code",
      "source": [
        "fig, ax = plt.subplots(nrows=2, ncols=5, figsize=(10,6))\n",
        "for i in range(10):\n",
        "    img = np.reshape(X[y == i][5],(8,8))\n",
        "    ax[int(i/5)][i%5].imshow(img, cmap='gray')\n"
      ],
      "metadata": {
        "colab": {
          "base_uri": "https://localhost:8080/",
          "height": 322
        },
        "id": "fvExgpX2AwWE",
        "outputId": "26794d16-96f8-428e-9ff9-d87a5ea29895"
      },
      "execution_count": null,
      "outputs": [
        {
          "output_type": "display_data",
          "data": {
            "text/plain": [
              "<Figure size 720x432 with 10 Axes>"
            ],
            "image/png": "[encoded data removed]"
          },
          "metadata": {
            "needs_background": "light"
          }
        }
      ]
    },
    {
      "cell_type": "code",
      "source": [
        "# Split data into training and testing sets\n",
        "X_train, X_test, y_train, y_test = train_test_split(X/16, y, test_size=0.3)"
      ],
      "metadata": {
        "id": "YV7Lctp4A3vg"
      },
      "execution_count": null,
      "outputs": []
    },
    {
      "cell_type": "code",
      "source": [
        "# The class Layer, uniquely defines the attributes and functionalities of a layer e.g. size, activation function, weights etc.\n",
        "class Layer:\n",
        "    # Initializes the basic attributes of a single layer\n",
        "    def __init__(self, size, index, activation='sigmoid'):\n",
        "        self.size = size # defines the number of stacked neurons in the layer\n",
        "        self.activation_func = activation # defines the activation function that each neuron in the layer uses\n",
        "        self.layer_index = index # defines the location of layer in the network\n",
        "        self.a = 0 # defines the output of the layer after running through activation\n",
        "        self.z = 0 # defines the input of layer to the activation function\n",
        "        \n",
        "    # Weight initialization is very important or the we might see vanishing/exploding gradient problem\n",
        "    # We use Glroot Initialization technique to intialize our weights and biases\n",
        "    def init_weight(self, input_shape, output_shape):\n",
        "        mean = 0\n",
        "        std = np.sqrt(2/(input_shape + output_shape))\n",
        "        self.weights = np.float32(np.random.uniform(-std, std, (output_shape, input_shape)))\n",
        "        self.bias = np.float32(np.random.uniform(-std, std, (output_shape,1)))\n",
        "    \n",
        "    # return the output of layer after running the input through selected activation function\n",
        "    def activation(self, inputs):\n",
        "        self.z = np.dot(self.weights,inputs) + self.bias\n",
        "        self.a = 1/(1 + np.exp(-self.z))\n",
        "        return self.a\n",
        "    \n",
        "    # provides the derivative of activation function for the current output of the layer\n",
        "    def activation_grad(self):\n",
        "        return self.a * (1 - self.a)       \n"
      ],
      "metadata": {
        "id": "L75Rb7IsA4Bp"
      },
      "execution_count": null,
      "outputs": []
    },
    {
      "cell_type": "code",
      "source": [
        "# Class Neural Network, defines multiple layers and runs forwad and back propogation to train the network.\n",
        "class NeuralNetwork:\n",
        "    \n",
        "    # defines the shape of Network and initializes layers\n",
        "    def __init__(self, shape):\n",
        "        self.shape = shape\n",
        "        self.layers = list()\n",
        "        self.log_loss_hist = list()\n",
        "        j = 0\n",
        "        for i in shape:\n",
        "            self.layers.append(Layer(i,j))\n",
        "            j = j + 1\n",
        "        \n",
        "    # Initializes the weights and biases of our network for each layer\n",
        "    def initialize(self, X, y):\n",
        "        for i in range(len(self.layers)):\n",
        "            if i == 0:\n",
        "                self.layers[i].init_weight(X.shape[1], self.layers[i].size)\n",
        "            else:\n",
        "                self.layers[i].init_weight(self.layers[i-1].size, self.layers[i].size)\n",
        "       \n",
        "    # performs forward propogation\n",
        "    def forward_propogation(self, X):\n",
        "        a = X.T\n",
        "        for layer in self.layers:\n",
        "            a = layer.activation(a)\n",
        "    # calculates log logs and return the result\n",
        "    def loss(self, outputs, y):\n",
        "        lb = LabelBinarizer()\n",
        "        y_lb = lb.fit_transform(y)\n",
        "        outputs_lb = lb.transform(outputs)\n",
        "        loss = log_loss(y_lb, outputs_lb)\n",
        "        return loss\n",
        "    \n",
        "    # Performs the most critical, Backpropogation to calculate delta values for each layer\n",
        "    def backpropogate(self, X, y):\n",
        "        delta = list()\n",
        "        delta_w = [0 for _ in range(len(self.layers))]\n",
        "        delta_b = [0 for _ in range(len(self.layers))]\n",
        "        error_o = (self.layers[-1].z - y.T)\n",
        "        for i in reversed(range(len(self.layers) - 1)):\n",
        "            error_i = np.multiply(self.layers[i+1].weights.T.dot(error_o), self.layers[i].activation_grad())\n",
        "            delta_w[i+1] = error_o.dot(self.layers[i].a.T)/len(y)\n",
        "            delta_b[i+1] = np.sum(error_o, axis=1, keepdims=True)/len(y)\n",
        "            error_o = error_i\n",
        "        delta_w[0] = error_o.dot(X)\n",
        "        delta_b[0] = np.sum(error_o, axis=1, keepdims=True)/len(y)\n",
        "        return (delta_w, delta_b)\n",
        "        \n",
        "    # Uses the delta values to update weights and biases\n",
        "    def update_weights_bias(self, delta_w, delta_b, lr):\n",
        "        #print(self.layers[0].bias.shape)\n",
        "\n",
        "        for i in range(len(self.layers)):\n",
        "            layer = self.layers[i]\n",
        "            layer.weights = layer.weights - (lr*delta_w[i])\n",
        "            layer.bias = layer.bias - (lr*delta_b[i]) \n",
        "    \n",
        "    # Used to orchestrate the training of network, given a certain epoch and learning rate\n",
        "    def train(self, X, y, epochs, batch_size, lr):\n",
        "        self.initialize(X, y)\n",
        "        lb = LabelBinarizer()\n",
        "        y_lb = lb.fit_transform(y)\n",
        "        y_lb = lb.fit_transform(y)\n",
        "        for i in range(epochs):\n",
        "            low = 0\n",
        "            high = low + batch_size\n",
        "            self.log_loss_hist.append(self.loss(np.argmax(self.predict(X), axis=0), y))\n",
        "            while(low < X.shape[0]):\n",
        "                X_bat = X[low:high,:]\n",
        "                y_bat = y_lb[low:high]\n",
        "                self.forward_propogation(X_bat)\n",
        "                outputs = self.layers[-1].a\n",
        "                delta_w, delta_b = self.backpropogate(X_bat, y_bat)\n",
        "                self.update_weights_bias(delta_w, delta_b, lr)\n",
        "                low = high\n",
        "                if (low + batch_size) > X.shape[0]:\n",
        "                    high = X.shape[0]\n",
        "                else:\n",
        "                    high = low + batch_size\n",
        "\n",
        "    # Runs the input through the network and returns\n",
        "    def predict(self, X):\n",
        "        a = X.T\n",
        "        for layer in self.layers:\n",
        "            a = layer.activation(a)\n",
        "        return a"
      ],
      "metadata": {
        "id": "Savx56ogA4EH"
      },
      "execution_count": null,
      "outputs": []
    },
    {
      "cell_type": "code",
      "source": [
        "# Define the model and its architecture (Shape)\n",
        "## Params1: Input Layer\n",
        "## Params2: Hidden Layer\n",
        "## Params3: Hidden Layer\n",
        "## Params4: Output Layer\n",
        "model = NeuralNetwork((64,32,16,10))"
      ],
      "metadata": {
        "id": "B6LELqqdA4Gp"
      },
      "execution_count": null,
      "outputs": []
    },
    {
      "cell_type": "code",
      "source": [],
      "metadata": {
        "id": "WS_suUBAEcpN"
      },
      "execution_count": null,
      "outputs": []
    },
    {
      "cell_type": "code",
      "source": [
        "# Train our model using the hyper-parameters\n",
        "## Params1: x_train\n",
        "## Params2: y_train\n",
        "## Params3: epochs\n",
        "## Params4: batch_size\n",
        "## Params5: lr\n",
        "model.train(X_train, y_train, 1000, 64, 0.1)"
      ],
      "metadata": {
        "id": "4i3wAppuBGpB"
      },
      "execution_count": null,
      "outputs": []
    },
    {
      "cell_type": "code",
      "source": [
        "# Plot the log loss over epochs\n",
        "sns.lineplot(x=list(range(len(model.log_loss_hist))), y=model.log_loss_hist)"
      ],
      "metadata": {
        "colab": {
          "base_uri": "https://localhost:8080/"
        },
        "id": "PNVAmBV6BG-U",
        "outputId": "9fe2605a-861b-49e4-f324-f5ad044e47e9"
      },
      "execution_count": null,
      "outputs": [
        {
          "output_type": "execute_result",
          "data": {
            "text/plain": [
              "<matplotlib.axes._subplots.AxesSubplot at 0x7ff5ddb4e9d0>"
            ]
          },
          "metadata": {},
          "execution_count": 95
        },
        {
          "output_type": "display_data",
          "data": {
            "text/plain": [
              "<Figure size 432x288 with 1 Axes>"
            ],
            "image/png": "[encoded data removed]"
          },
          "metadata": {
            "needs_background": "light"
          }
        }
      ]
    },
    {
      "cell_type": "code",
      "source": [
        "# Make the prediction on test data and measure performance\n",
        "y_pred = model.predict(X_test)\n",
        "y_pred = np.argmax(y_pred, axis=0)\n",
        "print(f\"Accuracy Score: {np.round(accuracy_score(y_test, y_pred)*100,2)}\")"
      ],
      "metadata": {
        "colab": {
          "base_uri": "https://localhost:8080/"
        },
        "id": "PVzHU09eBHIQ",
        "outputId": "d188305b-df2f-4834-d7a4-7dce088822b7"
      },
      "execution_count": null,
      "outputs": [
        {
          "output_type": "stream",
          "name": "stdout",
          "text": [
            "Accuracy Score: 98.33\n"
          ]
        }
      ]
    },
    {
      "cell_type": "code",
      "source": [
        "# Plot the wrongly predicted images, to get an idea of mistakes model is making\n",
        "fig, ax = plt.subplots(nrows=1, ncols=8, figsize=(16,2))\n",
        "wrongs = y_pred != y_test\n",
        "samp = X_test[wrongs]\n",
        "y_samp_true = y_test[wrongs]\n",
        "y_samp_pred = y_pred[wrongs]\n",
        "n = len(samp)\n",
        "for i in range(8):\n",
        "    idx = np.random.randint(0, n)\n",
        "    img = np.reshape(samp[idx]*16, (8,8))\n",
        "    ax[i].imshow(img, cmap='gray_r')\n",
        "    ax[i].set_title(f\"Acutual: {y_samp_true[idx]}\\nPrediction: {y_samp_pred[idx]}\")"
      ],
      "metadata": {
        "colab": {
          "base_uri": "https://localhost:8080/",
          "height": 168
        },
        "id": "lo6FJBVTBHP1",
        "outputId": "1ddcc2d1-d0c5-480b-b485-f4b407d9ef7f"
      },
      "execution_count": null,
      "outputs": [
        {
          "output_type": "display_data",
          "data": {
            "text/plain": [
              "<Figure size 1152x144 with 8 Axes>"
            ],
            "image/png": "[encoded data removed]"
          },
          "metadata": {
            "needs_background": "light"
          }
        }
      ]
    },
    {
      "cell_type": "markdown",
      "source": [
        "### v - Backpropagation with Neural Swap "
      ],
      "metadata": {
        "id": "jGMPzHswAQtQ"
      }
    },
    {
      "cell_type": "code",
      "source": [],
      "metadata": {
        "id": "EERgC1IBAV8v"
      },
      "execution_count": null,
      "outputs": []
    }
  ]
}